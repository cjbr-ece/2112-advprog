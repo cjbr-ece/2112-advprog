{
 "cells": [
  {
   "cell_type": "markdown",
   "id": "1e9a24ec-b086-4937-9521-28632c93fe9a",
   "metadata": {},
   "source": [
    "# PROGRAMMING ASSIGNMENT 1 - INTRODUCTION TO PYTHON PROGRAMMING"
   ]
  },
  {
   "cell_type": "code",
   "execution_count": 31,
   "id": "c2d73785-8b2e-44a7-8cee-b7b316c8b930",
   "metadata": {},
   "outputs": [
    {
     "name": "stdout",
     "output_type": "stream",
     "text": [
      "ehllo\n",
      "acehkr\n"
     ]
    }
   ],
   "source": [
    "# Problem 1 - Alphabet Soup\n",
    "\n",
    "# Sort Function\n",
    "def alphabet_soup(strS): # Function name according to problem instructions.\n",
    "    # Problem 1 will be approached by converting the given string into a data form that can be sorted, such as a list. However, displaying\n",
    "    # it as a string requires the use of a loop.\n",
    "\n",
    "    listS = list(strS) # This is converting our string strS to a list labeled listS.\n",
    "    listS.sort() # This uses the sort function of a list to sort the letters alphabetically.\n",
    "    strS = '' # By resetting the original string, we can set the new string in its place.\n",
    "    \n",
    "    for x in listS: # Repetition structure for every object in the list.\n",
    "        strS += x # Simply add each letter from the list to our string.\n",
    "        \n",
    "    print(strS) # This is simply to see that the string has been changed.\n",
    "\n",
    "alphabet_soup(\"hello\") # Test case 1\n",
    "alphabet_soup(\"hacker\") # Test case 2"
   ]
  },
  {
   "cell_type": "code",
   "execution_count": 32,
   "id": "91ed0c61-378b-44fd-8153-af383c314d6f",
   "metadata": {},
   "outputs": [
    {
     "name": "stdout",
     "output_type": "stream",
     "text": [
      "Make me :)\n",
      "I am >:(\n"
     ]
    }
   ],
   "source": [
    "# Problem 2 - Emoticon Problem\n",
    "\n",
    "# Emotify Function\n",
    "def emotify(strS): # Function name according to problem instructions\n",
    "    # Given the nature of the given problems, I assume problem 2's intended solution is \n",
    "    # to use a condtional statement.\n",
    "\n",
    "    # Case 1 - Smile\n",
    "    if \"smile\" in strS.lower():    # Search for the required string\n",
    "        strS = strS[0:strS.lower().find(\"smile\"):1] + strS.lower()[strS.lower().find(\"smile\"):len(strS):1].replace(\"smile\", \":)\")\n",
    "\n",
    "        # Search Code Explanation\n",
    "        # So a quick explanation for whats happening in the above line, essentially using the find() attribute in strings\n",
    "        # I can find where specifically a search term starts and stops and using that information to change the case of\n",
    "        # only the required string in order to accept different uppercase/lowercase combinations of the search string, in\n",
    "        # this case smile, using the slice function and simply adding the lowercase part to the end of the returned string.\n",
    "\n",
    "        # Flow of what's essentially going on:\n",
    "        # strS[0:strS.lower().find(\"smile\"):1] - this is the first part of the string, the part unchanged to preserve it's\n",
    "        # case sensitivity\n",
    "        # strS.lower()[strS.lower().find(\"smile\"):len(strS):1].replace(\"smile\", \":)\") - this sets the rest of the sentence\n",
    "        # to lower case to replace the search string.\n",
    "\n",
    "        # Admittedly the only downside to this implementation is the rest of the string becomes lower case, but given the \n",
    "        # examples cases given it's a solution I'm willing to use since I was more concerened over different cases not\n",
    "        # being recognized.\n",
    "        \n",
    "    # Case 2 - Grin\n",
    "    elif \"grin\" in strS.lower():    # Search for the required string\n",
    "        strS = strS[0:strS.lower().find(\"grin\"):1] + strS.lower()[strS.lower().find(\"grin\"):len(strS):1].replace(\"grin\", \":D\") # Search code.\n",
    "    # Case 3 - Sad \n",
    "    elif \"sad\" in strS.lower():    # Search for the required string\n",
    "        strS = strS[0:strS.lower().find(\"sad\"):1] + strS.lower()[strS.lower().find(\"sad\"):len(strS):1].replace(\"sad\", \":((\") # Search code.\n",
    "    # Case 4 - Mad\n",
    "    elif \"mad\" in strS.lower():    # Search for the required string\n",
    "        strS = strS[0:strS.lower().find(\"mad\"):1] + strS.lower()[strS.lower().find(\"mad\"):len(strS):1].replace(\"mad\", \">:(\") # Search code.\n",
    "        \n",
    "    print(strS) # Finally, output the string so you can see if it worked.\n",
    "\n",
    "emotify(\"Make me smile\") # Test case 1.\n",
    "emotify(\"I am mad\") # Test case 2."
   ]
  },
  {
   "cell_type": "code",
   "execution_count": 34,
   "id": "140e28b6-4fe3-4f37-a4af-e9f06972077a",
   "metadata": {},
   "outputs": [
    {
     "name": "stdout",
     "output_type": "stream",
     "text": [
      "First: 1 Middle: [2, 3, 4, 5] Last: 6\n"
     ]
    }
   ],
   "source": [
    "# Problem 3 - Unpacking List Soup\n",
    "\n",
    "lst = [1,2,3,4,5,6] # Test case list.\n",
    "\n",
    "# Split Function\n",
    "def unpack(listL): # No function name was given in the problem, so I just chose.\n",
    "    # Problem 3 requires multiple parts of Python, namely built-in list functions.\n",
    "    \n",
    "    first = listL[0] # Simply enough, the first index of a list will always be index 0, so we can simply get it as so.\n",
    "    last = listL[len(listL) - 1] # Conversely, whatever the last in an index will be equal to the length of the list, so we can use len().\n",
    "    middle = listL[1:len(listL) - 1] # As for the middle, we can just use the list function to get the index 1 up till second to last.\n",
    "    \n",
    "    print(\"First:\", first, \"Middle:\", middle, \"Last:\", last) # Finally, output the list according to our problem instructions.\n",
    "\n",
    "unpack(lst) # Test case 1."
   ]
  }
 ],
 "metadata": {
  "kernelspec": {
   "display_name": "Python 3 (ipykernel)",
   "language": "python",
   "name": "python3"
  },
  "language_info": {
   "codemirror_mode": {
    "name": "ipython",
    "version": 3
   },
   "file_extension": ".py",
   "mimetype": "text/x-python",
   "name": "python",
   "nbconvert_exporter": "python",
   "pygments_lexer": "ipython3",
   "version": "3.13.5"
  }
 },
 "nbformat": 4,
 "nbformat_minor": 5
}
