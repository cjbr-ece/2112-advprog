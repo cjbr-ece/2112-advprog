{
 "cells": [
  {
   "cell_type": "markdown",
   "id": "1e9a24ec-b086-4937-9521-28632c93fe9a",
   "metadata": {},
   "source": [
    "# EXPERIMENT 2 - NUMERICAL PYTHON"
   ]
  },
  {
   "cell_type": "code",
   "execution_count": 1,
   "id": "2aa31f15-bf77-48dc-adb5-52bc69acee91",
   "metadata": {},
   "outputs": [],
   "source": [
    "# Library Initialization\n",
    "import numpy as np"
   ]
  },
  {
   "cell_type": "code",
   "execution_count": 2,
   "id": "c2d73785-8b2e-44a7-8cee-b7b316c8b930",
   "metadata": {},
   "outputs": [
    {
     "name": "stdout",
     "output_type": "stream",
     "text": [
      "[[ 0.89750398  0.63659478  1.09434924 -1.354749    0.48913874]\n",
      " [ 1.06979788 -1.35871421 -1.2783632  -0.02061181  0.85482897]\n",
      " [ 0.3255369  -1.37274713  1.26267475  0.40316395 -0.94934644]\n",
      " [-1.18221465 -0.50570532  1.14201569  1.10875425 -1.27642315]\n",
      " [ 0.42349978 -1.2022499   1.11279892  0.78422596 -1.10375899]]\n"
     ]
    }
   ],
   "source": [
    "# Problem 1 - NORMALIZATION PROBLEM\n",
    "\n",
    "# Initial Variable Declaration\n",
    "X = np.random.random((5,5)) # Using the variable given in the experiment sheet.\n",
    "\n",
    "# Normalization\n",
    "def normalize(x): # I decided on creating a function because modularity is a general coding principle.\n",
    "    z = (x - x.mean()) / x.std() # Translating, this is simply the formula Z = X - xbar / omega.\n",
    "    np.save('X_normalized.npy', z) # Saving to the file name as required by the problem.\n",
    "    print(np.load('X_normalized.npy')) # Print to simply see the saved file using np.load.\n",
    "\n",
    "normalize(X) # Test Case"
   ]
  },
  {
   "cell_type": "code",
   "execution_count": 3,
   "id": "91ed0c61-378b-44fd-8153-af383c314d6f",
   "metadata": {},
   "outputs": [
    {
     "name": "stdout",
     "output_type": "stream",
     "text": [
      "[   9   36   81  144  225  324  441  576  729  900 1089 1296 1521 1764\n",
      " 2025 2304 2601 2916 3249 3600 3969 4356 4761 5184 5625 6084 6561 7056\n",
      " 7569 8100 8649 9216 9801]\n"
     ]
    }
   ],
   "source": [
    "# Problem 2 - DIVISIBLE BY 3 PROBLEM\n",
    "\n",
    "# Initial Variable Declaration\n",
    "A = np.arange(1,101) ** 2 # First I create the array of squares from 1-1001 because its non inclusive.\n",
    "A = A.reshape(10,10) # Then, using the reshape function of np.arrays, I reshape the function to 10x10.\n",
    "\n",
    "# Finding values divisible by 3\n",
    "B = A[A % 3 == 0] # Using indexing, we can search for all values of A that are divisible by 3 and have no remainder using modulo division.\n",
    "np.save('div_by_3.npy', B) # Saving to the file name as required by the problem.\n",
    "\n",
    "print(B) # Test Case 1, Printing B for review."
   ]
  }
 ],
 "metadata": {
  "kernelspec": {
   "display_name": "Python 3 (ipykernel)",
   "language": "python",
   "name": "python3"
  },
  "language_info": {
   "codemirror_mode": {
    "name": "ipython",
    "version": 3
   },
   "file_extension": ".py",
   "mimetype": "text/x-python",
   "name": "python",
   "nbconvert_exporter": "python",
   "pygments_lexer": "ipython3",
   "version": "3.13.5"
  }
 },
 "nbformat": 4,
 "nbformat_minor": 5
}
